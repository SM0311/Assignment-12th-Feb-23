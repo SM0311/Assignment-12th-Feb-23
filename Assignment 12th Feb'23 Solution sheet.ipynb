{
 "cells": [
  {
   "cell_type": "markdown",
   "id": "a1848f36-a476-4d9e-8e3f-6f54005d8571",
   "metadata": {},
   "source": [
    "Q1. What is Exception in Python? Write the difference between Exceptions and syntax errors.\n"
   ]
  },
  {
   "cell_type": "markdown",
   "id": "62292750-e289-4048-8212-68c2cbcb9e5c",
   "metadata": {},
   "source": [
    "Answer 1. In Python, an exception is an error that occurs during the execution of a program. When an exception occurs, Python stops executing the program and raises an exception object, which contains information about the error, such as its type and the line number where it occurred.\n",
    "\n",
    "Exceptions can occur for many reasons, such as a programming error, input error, or system error. Some common types of exceptions in Python include NameError, TypeError, ValueError, and IOError.\n",
    "\n",
    "On the other hand, syntax errors occur when the Python interpreter encounters code that does not conform to the syntax rules of the language. These errors are usually detected before the program starts executing and prevent the program from running at all.\n",
    "\n",
    "The key difference between exceptions and syntax errors is that syntax errors are caused by mistakes in the code, while exceptions are raised during the execution of the program due to some runtime error. Syntax errors can be fixed by correcting the code, while exceptions need to be handled by writing appropriate code to handle the error and prevent the program from crashing.\n",
    "\n",
    "\n",
    "\n",
    "\n",
    "\n"
   ]
  },
  {
   "cell_type": "markdown",
   "id": "5f13423c-ddf0-461c-8160-6ca5d9699258",
   "metadata": {},
   "source": [
    "Q2. What happens when an exception is not handled? Explain with an example."
   ]
  },
  {
   "cell_type": "markdown",
   "id": "5a09a2bc-7fff-4db7-85eb-2655ef1fb26e",
   "metadata": {},
   "source": [
    "Answer 2. When an exception is not handled in Python, the program will terminate and an error message will be displayed, which can make the program unusable or lead to unexpected behavior.\n",
    "\n",
    "Example -  \n",
    "\n",
    "\n",
    "         try:\n",
    "             file = open('nonexistent.txt', 'r')\n",
    "        except:\n",
    "             print('An error occurred')\n",
    "            \n",
    "In this code, we have a try-except block that tries to open a file 'nonexistent.txt'. Since the file does not exist, Python will raise an IOError exception. However, in the except block, we are not doing anything to handle the exception, we are only printing a message 'An error occurred'.\n",
    "\n",
    "If this code is executed, the message 'An error occurred' will be printed, but the program will continue to run and terminate abruptly with a traceback message that displays the details of the exception. \n"
   ]
  },
  {
   "cell_type": "code",
   "execution_count": 1,
   "id": "80a20aa9-ff9a-4194-abce-4515975d9b56",
   "metadata": {},
   "outputs": [
    {
     "name": "stdout",
     "output_type": "stream",
     "text": [
      "An error occured\n"
     ]
    }
   ],
   "source": [
    "try:\n",
    "    file = open(\"nonexistent.txt\", 'r')\n",
    "except:\n",
    "    print(\"An error occured\")"
   ]
  },
  {
   "cell_type": "markdown",
   "id": "ae5ce90e-d3ac-49e7-ba9d-1bb3d4dd05b1",
   "metadata": {},
   "source": [
    "Q3. Which Python statements are used to catch and handle exception? Explain with example.\n"
   ]
  },
  {
   "cell_type": "markdown",
   "id": "e15bd1e9-d8fe-4a89-bae3-12ca74027cb5",
   "metadata": {},
   "source": [
    "Answer 3. In Python, we use the 'try' and 'except' statements to catch and handle exceptions.\n",
    "\n",
    "The try statement defines a block of code to be executed, and the except statement defines a block of code to be executed if an exception occurs within the try block.\n",
    "\n",
    "The syntax for using the try-except statement is as follows:\n",
    "\n",
    "           try:\n",
    "                # code that may raise an exception\n",
    "           except ExceptionType:\n",
    "                # code to handle the exception\n",
    "\n",
    "Here, ExceptionType refers to the specific type of exception that we want to handle. If an exception of this type occurs within the try block, the code within the corresponding except block will be executed.\n",
    "\n",
    "\n",
    "Example - As per below cell - "
   ]
  },
  {
   "cell_type": "code",
   "execution_count": 2,
   "id": "8e100ee3-645c-4840-bb3f-fdd2c0b9612d",
   "metadata": {},
   "outputs": [
    {
     "name": "stdout",
     "output_type": "stream",
     "text": [
      "The specified file does not exist\n"
     ]
    }
   ],
   "source": [
    "try:\n",
    "    file = open('nonexistent.txt', 'r')\n",
    "except FileNotFoundError:\n",
    "    print('The specified file does not exist')\n"
   ]
  },
  {
   "cell_type": "markdown",
   "id": "cdce217e-fe72-450f-ae81-a33b98d77d34",
   "metadata": {},
   "source": [
    "Q4. Explain with an example :\n",
    "\n",
    "a. try and else\n",
    "\n",
    "b. finally\n",
    "\n",
    "c. raise"
   ]
  },
  {
   "cell_type": "code",
   "execution_count": 3,
   "id": "acf7e464-bfae-43c6-a8be-cca2c373b8b7",
   "metadata": {},
   "outputs": [
    {
     "name": "stdout",
     "output_type": "stream",
     "text": [
      "The result is: 2.5\n"
     ]
    }
   ],
   "source": [
    "#a. try and else \n",
    "\n",
    "\n",
    "try:\n",
    "    x = 5/2\n",
    "except ZeroDivisionError:\n",
    "    print(\"cannot divided by zero\")\n",
    "else:\n",
    "    print(\"The result is:\", x)"
   ]
  },
  {
   "cell_type": "code",
   "execution_count": 4,
   "id": "63b7f82e-e050-492d-af23-2689540482ae",
   "metadata": {},
   "outputs": [],
   "source": [
    "#b. Finally\n",
    "\n",
    "try:\n",
    "    f = open(\"test1.txt\", \"r\")\n",
    "except FileNotFoundError:\n",
    "    print(\"The specified file does not exist\")\n",
    "finally:\n",
    "    f.close()\n"
   ]
  },
  {
   "cell_type": "code",
   "execution_count": 5,
   "id": "23eb53e2-1dfc-455c-b366-4ac5f2de037f",
   "metadata": {},
   "outputs": [
    {
     "ename": "ValueError",
     "evalue": "The person must be at least 18 years old",
     "output_type": "error",
     "traceback": [
      "\u001b[0;31m---------------------------------------------------------------------------\u001b[0m",
      "\u001b[0;31mValueError\u001b[0m                                Traceback (most recent call last)",
      "Cell \u001b[0;32mIn[5], line 5\u001b[0m\n\u001b[1;32m      3\u001b[0m age \u001b[38;5;241m=\u001b[39m \u001b[38;5;241m17\u001b[39m\n\u001b[1;32m      4\u001b[0m \u001b[38;5;28;01mif\u001b[39;00m age \u001b[38;5;241m<\u001b[39m\u001b[38;5;241m18\u001b[39m:\n\u001b[0;32m----> 5\u001b[0m     \u001b[38;5;28;01mraise\u001b[39;00m \u001b[38;5;167;01mValueError\u001b[39;00m(\u001b[38;5;124m\"\u001b[39m\u001b[38;5;124mThe person must be at least 18 years old\u001b[39m\u001b[38;5;124m\"\u001b[39m)\n\u001b[1;32m      8\u001b[0m \u001b[38;5;66;03m#In this code, 'if statement that checks whether a person's age is less than 18. If it is, we raise a ValueError exception with a message 'The person must be at least 18 years old'. This will cause the program to terminate and display an error message, indicating that an exception has been raised. We can use the try-except block to catch and handle this exception if we want to.\u001b[39;00m\n",
      "\u001b[0;31mValueError\u001b[0m: The person must be at least 18 years old"
     ]
    }
   ],
   "source": [
    "#c. raise\n",
    "\n",
    "age = 17\n",
    "if age <18:\n",
    "    raise ValueError(\"The person must be at least 18 years old\")\n",
    "    \n",
    "    \n",
    "#In this code, 'if statement that checks whether a person's age is less than 18. If it is, we raise a ValueError exception with a message 'The person must be at least 18 years old'. This will cause the program to terminate and display an error message, indicating that an exception has been raised. We can use the try-except block to catch and handle this exception if we want to."
   ]
  },
  {
   "cell_type": "markdown",
   "id": "80aef0ac-1877-4812-89e1-98ba4af9c4f5",
   "metadata": {},
   "source": [
    "Q5. What are custom Exceptions in python? Why do we need Custom exceptions? explain with an Example."
   ]
  },
  {
   "cell_type": "markdown",
   "id": "68767998-640a-488a-b572-2ae323d25448",
   "metadata": {},
   "source": [
    "Answer 5.  Custom exceptions in Python are user-defined exceptions that inherit from the built-in Exception class. We create custom exceptions when we want to define our own types of exceptions for a particular application or module. By creating our own exceptions, we can make our code more modular, easier to maintain, and easier to understand."
   ]
  },
  {
   "cell_type": "code",
   "execution_count": 6,
   "id": "0c21b6a1-bb43-4457-b3f9-a75e269be553",
   "metadata": {
    "tags": []
   },
   "outputs": [
    {
     "name": "stdout",
     "output_type": "stream",
     "text": [
      "Invalid email address: example.com\n"
     ]
    }
   ],
   "source": [
    "#Example - \n",
    "\n",
    "class InvalidEmailError(Exception):\n",
    "    pass\n",
    "\n",
    "def send_email(to, subject, body):\n",
    "    if '@' not in to:\n",
    "        raise InvalidEmailError('Invalid email address: {}'.format(to))\n",
    "\n",
    "\n",
    "to = 'example.com'\n",
    "subject = 'Test email'\n",
    "body = 'This is a test email'\n",
    "try:\n",
    "    send_email(to, subject, body)\n",
    "except InvalidEmailError as e:\n",
    "    print(str(e))\n"
   ]
  },
  {
   "cell_type": "markdown",
   "id": "dda1a799-b8ca-485b-bd64-3e1ef80413ba",
   "metadata": {},
   "source": [
    "In this code, I have defined a custom exception called InvalidEmailError that inherits from the built-in Exception class. I also have a function send_email that takes in the recipient's email address, subject, and body of the email as arguments. In the send_email function, I have a check to see if the email address contains the '@' symbol. If it doesn't, It raises an InvalidEmailError exception with a message indicating the invalid email address.\n",
    "\n",
    "In the try-except block, we call the send_email function with an invalid email address. Since the email address is invalid, the send_email function raises an InvalidEmailError exception, which we catch and handle in the except block. In the except block, we print the error message that was raised.\n"
   ]
  },
  {
   "cell_type": "markdown",
   "id": "981d6d1f-07e9-4f86-bf6e-af743194dfcc",
   "metadata": {},
   "source": [
    "Q6. Create a custom exception class. use this class to handle an exception."
   ]
  },
  {
   "cell_type": "code",
   "execution_count": 7,
   "id": "db67e622-29a6-421b-92ff-3c5f94844529",
   "metadata": {},
   "outputs": [
    {
     "name": "stdout",
     "output_type": "stream",
     "text": [
      "Number should be psitive: -4\n"
     ]
    }
   ],
   "source": [
    "class NegativeNumberError(Exception):\n",
    "    def __init__(self, number):\n",
    "        self.number = number\n",
    "        super().__init__(\"Number should be psitive: {}\".format(number))\n",
    "        \n",
    "def calculate_square_root(number):\n",
    "    if number < 0:\n",
    "        raise NegativeNumberError(number)\n",
    "        \n",
    "try:\n",
    "    calculate_square_root(-4)\n",
    "except NegativeNumberError as e:\n",
    "    print(str(e))"
   ]
  }
 ],
 "metadata": {
  "kernelspec": {
   "display_name": "Python 3 (ipykernel)",
   "language": "python",
   "name": "python3"
  },
  "language_info": {
   "codemirror_mode": {
    "name": "ipython",
    "version": 3
   },
   "file_extension": ".py",
   "mimetype": "text/x-python",
   "name": "python",
   "nbconvert_exporter": "python",
   "pygments_lexer": "ipython3",
   "version": "3.10.8"
  }
 },
 "nbformat": 4,
 "nbformat_minor": 5
}
